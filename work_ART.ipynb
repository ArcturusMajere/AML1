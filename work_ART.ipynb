{
 "cells": [
  {
   "cell_type": "code",
   "execution_count": 1,
   "id": "1740f705",
   "metadata": {},
   "outputs": [
    {
     "name": "stdout",
     "output_type": "stream",
     "text": [
      "Segmentation Models: using `keras` framework.\n"
     ]
    }
   ],
   "source": [
    "%matplotlib inline\n",
    "\n",
    "import numpy as np\n",
    "import pandas as pd\n",
    "import matplotlib.pyplot as plt\n",
    "import matplotlib.gridspec as gridspec\n",
    "\n",
    "import cv2\n",
    "import os\n",
    "from keras.callbacks import EarlyStopping\n",
    "import datetime\n",
    "now = datetime.datetime.now\n",
    "import segmentation_models as sm\n",
    "\n",
    "import PIL\n",
    "from PIL import Image\n",
    "import pathlib\n",
    "\n",
    "from skimage.io import imread\n",
    "from skimage import transform\n",
    "from skimage import exposure\n",
    "from skimage import io\n",
    "\n",
    "from functools import partial\n",
    "import random as rn\n",
    "import argparse\n",
    "\n",
    "import tensorflow as tf\n",
    "import keras_tuner as kt\n",
    "from tensorflow import keras\n",
    "from tensorflow.keras.optimizers import Adam\n",
    "from tensorflow.python.keras.models import Input\n",
    "\n",
    "from tensorflow.keras.preprocessing.image import ImageDataGenerator, img_to_array, array_to_img, load_img\n",
    "from tensorflow.keras.callbacks import EarlyStopping, ModelCheckpoint, ReduceLROnPlateau, LearningRateScheduler\n",
    "from tensorflow.keras.utils import to_categorical\n",
    "from tensorflow.keras.models import Sequential, load_model\n",
    "from tensorflow.keras.applications import VGG19, resnet50\n",
    "from tensorflow.keras.layers import Conv2D, MaxPool2D, Dense, Flatten, Dropout\n",
    "from keras.layers import Dense, Conv2D, BatchNormalization, Activation\n",
    "from keras.layers import AveragePooling2D, Flatten\n",
    "from keras.callbacks import ReduceLROnPlateau\n",
    "\n",
    "from keras.models import Model\n",
    "from keras.layers import Input\n",
    "from keras.layers.convolutional import Conv2D\n",
    "from keras.layers.pooling import MaxPooling2D\n",
    "from keras.layers import Dense\n",
    "from keras.layers import Flatten\n",
    "from keras.layers import GlobalAveragePooling2D\n",
    "from tensorflow.keras.applications import vgg16\n",
    "from keras.models import Model\n",
    "from keras.layers import Input\n",
    "from keras.layers.convolutional import Conv2D\n",
    "from keras.layers.pooling import MaxPooling2D\n",
    "from keras.layers import Dense\n",
    "from keras.layers import Flatten\n",
    "\n",
    "from sklearn.metrics import accuracy_score\n",
    "from sklearn.metrics import classification_report\n",
    "from sklearn.model_selection import train_test_split\n",
    "\n",
    "from cleverhans.tf2.attacks.projected_gradient_descent import projected_gradient_descent\n",
    "from cleverhans.tf2.attacks.fast_gradient_method import fast_gradient_method\n",
    "import art as art\n",
    "from art.attacks.evasion import DeepFool , SaliencyMapMethod, CarliniL2Method, fast_gradient\n",
    "from art.utils import load_mnist, get_labels_np_array\n",
    "from art.estimators.classification import TensorFlowV2Classifier\n",
    "from __future__ import print_function\n",
    "\n",
    "from keras.regularizers import l2\n",
    "from keras import backend as K\n",
    "from keras.models import Model\n",
    "from keras.datasets import cifar10\n",
    "\n",
    "\n",
    "os.environ['CUDA_VISIBLE_DEVICES'] = '0'\n",
    "os.environ[\"SM_FRAMEWORK\"] = \"tf.keras\""
   ]
  },
  {
   "cell_type": "code",
   "execution_count": 2,
   "id": "c3dfed18",
   "metadata": {},
   "outputs": [
    {
     "name": "stdout",
     "output_type": "stream",
     "text": [
      "['CNN.h5', 'CNN96.h5', 'Meta', 'Meta.csv', 'r50.h5', 'R50_model1.h5', 'R50_model2.h5', 'Test', 'Test.csv', 'Train', 'Train.csv', 'untitled_project', 'VGG.h5', 'VGG_model1.h5']\n",
      "Num GPUs Available:  1\n"
     ]
    }
   ],
   "source": [
    "PATH = \"C://data/german_sign/.\"\n",
    "os.chdir(PATH);print(os.listdir(PATH))\n",
    "print(\"Num GPUs Available: \", len(tf.config.list_physical_devices('GPU')))\n",
    "if tf.__version__[0] != '2':raise ImportError('This notebook requires TensorFlow v2.')"
   ]
  },
  {
   "cell_type": "code",
   "execution_count": 3,
   "id": "5095b851",
   "metadata": {},
   "outputs": [],
   "source": [
    "data_dir = \"C://data/german_sign/\"\n",
    "train_path = \"C://data/german_sign//Train/\"\n",
    "test_path = \"C://data/german_sign//Test/\""
   ]
  },
  {
   "cell_type": "code",
   "execution_count": 4,
   "id": "fe941780",
   "metadata": {},
   "outputs": [],
   "source": [
    "classes = { 0:'Speed limit (20km/h)',\n",
    "            1:'Speed limit (30km/h)', \n",
    "            2:'Speed limit (50km/h)', \n",
    "            3:'Speed limit (60km/h)', \n",
    "            4:'Speed limit (70km/h)', \n",
    "            5:'Speed limit (80km/h)', \n",
    "            6:'End of speed limit (80km/h)', \n",
    "            7:'Speed limit (100km/h)', \n",
    "            8:'Speed limit (120km/h)', \n",
    "            9:'No passing', \n",
    "            10:'No passing veh over 3.5 tons', \n",
    "            11:'Right-of-way at intersection', \n",
    "            12:'Priority road', \n",
    "            13:'Yield', \n",
    "            14:'Stop', \n",
    "            15:'No vehicles', \n",
    "            16:'Veh > 3.5 tons prohibited', \n",
    "            17:'No entry', \n",
    "            18:'General caution', \n",
    "            19:'Dangerous curve left', \n",
    "            20:'Dangerous curve right', \n",
    "            21:'Double curve', \n",
    "            22:'Bumpy road', \n",
    "            23:'Slippery road', \n",
    "            24:'Road narrows on the right', \n",
    "            25:'Road work', \n",
    "            26:'Traffic signals', \n",
    "            27:'Pedestrians', \n",
    "            28:'Children crossing', \n",
    "            29:'Bicycles crossing', \n",
    "            30:'Beware of ice/snow',\n",
    "            31:'Wild animals crossing', \n",
    "            32:'End speed + passing limits', \n",
    "            33:'Turn right ahead', \n",
    "            34:'Turn left ahead', \n",
    "            35:'Ahead only', \n",
    "            36:'Go straight or right', \n",
    "            37:'Go straight or left', \n",
    "            38:'Keep right', \n",
    "            39:'Keep left', \n",
    "            40:'Roundabout mandatory', \n",
    "            41:'End of no passing', \n",
    "            42:'End no passing veh > 3.5 tons' }"
   ]
  },
  {
   "cell_type": "code",
   "execution_count": 5,
   "id": "09f87e3f",
   "metadata": {},
   "outputs": [],
   "source": [
    "def plot_history(history):\n",
    "    fig, ax = plt.subplots(1, 2)\n",
    "    fig.set_size_inches(9, 3)\n",
    "\n",
    "    # Plot loss\n",
    "    ax[0].plot(history['loss'])\n",
    "    ax[0].plot(history['val_loss'])\n",
    "    ax[0].legend(['Training Loss', 'Validation Loss'])\n",
    "    ax[0].set_title('Model Loss')\n",
    "    ax[0].set_xlabel('Epochs')\n",
    "    ax[0].set_ylabel('Loss')\n",
    "\n",
    "    # Plot accuracy\n",
    "    ax[1].plot(history['accuracy'])\n",
    "    ax[1].plot(history['val_accuracy'])\n",
    "    ax[1].legend(['Training Accuracy', 'Validation Accuracy'])\n",
    "    ax[1].set_title('Model Accuracy')\n",
    "    ax[1].set_xlabel('Epochs')\n",
    "    ax[1].set_ylabel('Accuracy')\n",
    "\n",
    "    fig.suptitle('Model Performance')\n",
    "    plt.show()\n",
    "    \n",
    "    \n",
    "    \n",
    "def process_image(image_path, height, width):\n",
    "    image = imread(image_path)\n",
    "    image = Image.fromarray(image, 'RGB')\n",
    "    image = image.resize((height, width))\n",
    "    return np.array(image) / 255\n",
    "\n",
    "\n",
    "def map_pred(pred):return [int(list(train_dataset.class_indices.keys())[i]) for i in pred]\n",
    "test_df = pd.read_csv(data_dir + 'Test.csv')\n",
    "test_labels = test_df[\"ClassId\"].values\n",
    "imgs = test_df[\"Path\"].values"
   ]
  },
  {
   "cell_type": "code",
   "execution_count": 6,
   "id": "d648be89",
   "metadata": {},
   "outputs": [],
   "source": [
    "batch_size = 100\n",
    "height = 32; width = 32\n",
    "seed = 17\n",
    "\n",
    "data = list(map(partial(process_image, height=height, width=width), imgs))\n",
    "X_test = np.array(data)"
   ]
  },
  {
   "cell_type": "code",
   "execution_count": 7,
   "id": "b8dcf549",
   "metadata": {},
   "outputs": [
    {
     "name": "stdout",
     "output_type": "stream",
     "text": [
      "Found 31368 images belonging to 43 classes.\n",
      "Found 7841 images belonging to 43 classes.\n"
     ]
    }
   ],
   "source": [
    "train_datagen = ImageDataGenerator(rescale=1./255, validation_split=0.2)\n",
    "test_datagen =  ImageDataGenerator(rescale=1./255, validation_split=0.2)\n",
    "\n",
    "train_dataset = train_datagen.flow_from_directory(train_path,target_size=(height, width),\n",
    "                                                  batch_size=batch_size,\n",
    "                                                  class_mode='categorical',\n",
    "                                                  shuffle=True,\n",
    "                                                  seed=seed,\n",
    "                                                  color_mode='rgb',\n",
    "                                                  interpolation='hamming',\n",
    "                                                  subset='training')\n",
    "\n",
    "test_dataset = test_datagen.flow_from_directory(train_path,target_size=(height, width),\n",
    "                                                batch_size=batch_size,\n",
    "                                                class_mode='categorical',\n",
    "                                                shuffle=True,\n",
    "                                                seed=seed,\n",
    "                                                color_mode='rgb',\n",
    "                                                interpolation='hamming',\n",
    "                                                subset='validation')"
   ]
  },
  {
   "cell_type": "code",
   "execution_count": null,
   "id": "ab63978c",
   "metadata": {},
   "outputs": [],
   "source": [
    "base_model = vgg16.VGG16(weights='imagenet', include_top=False, input_shape=(32,32,3))\n",
    "x = base_model.output\n",
    "x = GlobalAveragePooling2D()(x)\n",
    "x = Dense(128, activation='relu')(x)\n",
    "x = Dropout(0.2)(x)\n",
    "x = Dense(64, activation='relu')(x)\n",
    "x = Dropout(0.2)(x)\n",
    "predictions = Dense(43, activation='softmax')(x)\n",
    "\n",
    "VGG = Model(inputs=base_model.input, outputs=predictions)\n",
    "VGG.summary()"
   ]
  },
  {
   "cell_type": "code",
   "execution_count": null,
   "id": "c7e3f265",
   "metadata": {},
   "outputs": [],
   "source": [
    "VGG.compile(optimizer='adam', loss='categorical_crossentropy', metrics = ['accuracy'])\n",
    "\n",
    "t = now()\n",
    "\n",
    "history = VGG.fit(train_dataset,steps_per_epoch=len(train_dataset),epochs=100, verbose=1, \n",
    "                  callbacks=[EarlyStopping(monitor='val_loss', patience = 10)],\n",
    "                  validation_data=test_dataset,validation_steps=len(test_dataset))\n",
    "print('Training time: %s' % (now() - t))"
   ]
  },
  {
   "cell_type": "code",
   "execution_count": null,
   "id": "0d519f6e",
   "metadata": {},
   "outputs": [],
   "source": [
    "plot_history(history.history)"
   ]
  },
  {
   "cell_type": "code",
   "execution_count": null,
   "id": "791d8d77",
   "metadata": {},
   "outputs": [],
   "source": [
    "pred = VGG.predict(X_test)\n",
    "pred = map_pred(pred.argmax(axis=-1))\n",
    "print('Test Data accuracy VGG: ',accuracy_score(test_labels, pred)*100)"
   ]
  },
  {
   "cell_type": "code",
   "execution_count": null,
   "id": "fa52ce0d",
   "metadata": {},
   "outputs": [],
   "source": [
    "VGG.save('VGG_model1.h5')"
   ]
  },
  {
   "cell_type": "code",
   "execution_count": null,
   "id": "9f051a4f",
   "metadata": {},
   "outputs": [],
   "source": [
    "base_model = resnet50.ResNet50(weights='imagenet', include_top=False, input_shape=(32,32,3))\n",
    "x = base_model.output\n",
    "x = GlobalAveragePooling2D()(x)\n",
    "x = Dense(128, activation='relu')(x)\n",
    "x = Dropout(0.2)(x)\n",
    "x = Dense(64, activation='relu')(x)\n",
    "x = Dropout(0.2)(x)\n",
    "predictions = Dense(43, activation='softmax')(x)\n",
    "\n",
    "R50 = Model(inputs=base_model.input, outputs=predictions)"
   ]
  },
  {
   "cell_type": "code",
   "execution_count": null,
   "id": "42b9ad44",
   "metadata": {},
   "outputs": [],
   "source": [
    "R50.compile(optimizer='adam', loss='categorical_crossentropy', metrics = ['accuracy'])\n",
    "R50.summary()"
   ]
  },
  {
   "cell_type": "code",
   "execution_count": null,
   "id": "b21e7724",
   "metadata": {},
   "outputs": [],
   "source": [
    "t = now()\n",
    "callbacks = [EarlyStopping(monitor='val_loss', patience = 20),\n",
    "             ReduceLROnPlateau(monitor='val_loss', factor=0.1, patience=10, min_lr=1e-6, verbose=1)]\n",
    "history = R50.fit(train_dataset,steps_per_epoch=len(train_dataset),epochs=100, verbose=1, \n",
    "                  callbacks=callbacks,\n",
    "                  validation_data=test_dataset,validation_steps=len(test_dataset))\n",
    "print('Training time: %s' % (now() - t))"
   ]
  },
  {
   "cell_type": "code",
   "execution_count": null,
   "id": "48dc7f30",
   "metadata": {},
   "outputs": [],
   "source": [
    "plot_history(history.history)"
   ]
  },
  {
   "cell_type": "code",
   "execution_count": null,
   "id": "baf09a11",
   "metadata": {},
   "outputs": [],
   "source": [
    "pred = R50.predict(X_test)\n",
    "pred = map_pred(pred.argmax(axis=-1))\n",
    "print('Test Data accuracy r50: ',accuracy_score(test_labels, pred)*100)"
   ]
  },
  {
   "cell_type": "code",
   "execution_count": null,
   "id": "ce78e611",
   "metadata": {},
   "outputs": [],
   "source": [
    "R50.save('R50_model2.h5')"
   ]
  },
  {
   "cell_type": "code",
   "execution_count": 26,
   "id": "d211a251",
   "metadata": {},
   "outputs": [
    {
     "data": {
      "image/png": "[encoded data removed]",
      "text/plain": [
       "<Figure size 480x480 with 1 Axes>"
      ]
     },
     "metadata": {},
     "output_type": "display_data"
    }
   ],
   "source": [
    "plt.matshow(X_test[2])\n",
    "plt.show()"
   ]
  },
  {
   "cell_type": "code",
   "execution_count": 8,
   "id": "62f014ce",
   "metadata": {},
   "outputs": [
    {
     "name": "stdout",
     "output_type": "stream",
     "text": [
      "395/395 [==============================] - 3s 2ms/step\n",
      "Test Data accuracy CNN96:  96.15993665874902\n"
     ]
    }
   ],
   "source": [
    "CNN96 = tf.keras.models.load_model('CNN96.h5')\n",
    "pred = CNN96.predict(X_test)\n",
    "pred = map_pred(pred.argmax(axis=-1))\n",
    "print('Test Data accuracy CNN96: ',accuracy_score(test_labels, pred)*100)"
   ]
  },
  {
   "cell_type": "code",
   "execution_count": 9,
   "id": "e6c45245",
   "metadata": {},
   "outputs": [],
   "source": [
    "loss_object = tf.keras.losses.SparseCategoricalCrossentropy()\n",
    "optimizer = tf.keras.optimizers.Adam()\n",
    "classifier = TensorFlowV2Classifier(model=CNN96, nb_classes=43, input_shape=(32,32,3), loss_object=loss_object, \n",
    "                                    clip_values=(0, 1), channels_first=False)"
   ]
  },
  {
   "cell_type": "code",
   "execution_count": 10,
   "id": "231cab86",
   "metadata": {},
   "outputs": [],
   "source": [
    "attack_fgsm_CNN96 = fast_gradient.FastGradientMethod(estimator=classifier, eps=0.3)\n",
    "x_test_adv_CNN96 = attack_fgsm_CNN96.generate(x=X_test)"
   ]
  },
  {
   "cell_type": "code",
   "execution_count": 11,
   "id": "4699635a",
   "metadata": {},
   "outputs": [
    {
     "name": "stdout",
     "output_type": "stream",
     "text": [
      "395/395 [==============================] - 1s 2ms/step\n",
      "Average perturbation: 0.24\n",
      "Test Data accuracy CNN96 with fgsm attack 10.95%\n"
     ]
    }
   ],
   "source": [
    "pred = CNN96.predict(x_test_adv_CNN96)\n",
    "pred = map_pred(pred.argmax(axis=-1))\n",
    "perturbation = np.mean(np.abs((x_test_adv_CNN96 - X_test)))\n",
    "print('Average perturbation: {:4.2f}'.format(perturbation))\n",
    "print('Test Data accuracy CNN96 with fgsm attack {:4.2f}%'.format(accuracy_score(test_labels, pred)*100))"
   ]
  },
  {
   "cell_type": "code",
   "execution_count": 12,
   "id": "7a667450",
   "metadata": {},
   "outputs": [
    {
     "data": {
      "image/png": "[encoded data removed]",
      "text/plain": [
       "<Figure size 480x480 with 1 Axes>"
      ]
     },
     "metadata": {},
     "output_type": "display_data"
    }
   ],
   "source": [
    "plt.matshow(x_test_adv_CNN96[2])\n",
    "plt.show()"
   ]
  },
  {
   "cell_type": "code",
   "execution_count": 21,
   "id": "d3e5701b",
   "metadata": {},
   "outputs": [
    {
     "data": {
      "image/png": "[encoded data removed]",
      "text/plain": [
       "<Figure size 480x480 with 1 Axes>"
      ]
     },
     "metadata": {},
     "output_type": "display_data"
    }
   ],
   "source": [
    "plt.matshow(X_test[3])\n",
    "plt.show()"
   ]
  },
  {
   "cell_type": "code",
   "execution_count": 20,
   "id": "427b8e6e",
   "metadata": {},
   "outputs": [
    {
     "name": "stdout",
     "output_type": "stream",
     "text": [
      "395/395 [==============================] - 4s 9ms/step\n",
      "Test Data accuracy VGG:  95.53444180522565\n"
     ]
    }
   ],
   "source": [
    "VGG = tf.keras.models.load_model('VGG_model1.h5')\n",
    "pred = VGG.predict(X_test)\n",
    "pred = map_pred(pred.argmax(axis=-1))\n",
    "print('Test Data accuracy VGG: ',accuracy_score(test_labels, pred)*100)"
   ]
  },
  {
   "cell_type": "code",
   "execution_count": 22,
   "id": "6e8991d1",
   "metadata": {},
   "outputs": [],
   "source": [
    "loss_object = tf.keras.losses.SparseCategoricalCrossentropy()\n",
    "optimizer = tf.keras.optimizers.Adam()\n",
    "classifier = TensorFlowV2Classifier(model=VGG, nb_classes=43, input_shape=(32,32,3), loss_object=loss_object, \n",
    "                                    clip_values=(0, 1), channels_first=False)"
   ]
  },
  {
   "cell_type": "code",
   "execution_count": 23,
   "id": "682aa6f6",
   "metadata": {},
   "outputs": [],
   "source": [
    "attack_fgsm_VGG = fast_gradient.FastGradientMethod(estimator=classifier, eps=0.3)\n",
    "x_test_adv_VGG = attack_fgsm_VGG.generate(x=X_test)"
   ]
  },
  {
   "cell_type": "code",
   "execution_count": 24,
   "id": "d3f12457",
   "metadata": {},
   "outputs": [
    {
     "name": "stdout",
     "output_type": "stream",
     "text": [
      "395/395 [==============================] - 3s 8ms/step\n",
      "Average perturbation: 0.18\n",
      "Test Data accuracy VGG with fgsm attack 43.00%\n"
     ]
    }
   ],
   "source": [
    "pred = VGG.predict(x_test_adv_VGG)\n",
    "pred = map_pred(pred.argmax(axis=-1))\n",
    "perturbation = np.mean(np.abs((x_test_adv_VGG - X_test)))\n",
    "print('Average perturbation: {:4.2f}'.format(perturbation))\n",
    "print('Test Data accuracy VGG with fgsm attack {:4.2f}%'.format(accuracy_score(test_labels, pred)*100))"
   ]
  },
  {
   "cell_type": "code",
   "execution_count": 25,
   "id": "01febb5a",
   "metadata": {},
   "outputs": [
    {
     "data": {
      "image/png": "[encoded data removed]",
      "text/plain": [
       "<Figure size 480x480 with 1 Axes>"
      ]
     },
     "metadata": {},
     "output_type": "display_data"
    }
   ],
   "source": [
    "plt.matshow(x_test_adv_VGG[3])\n",
    "plt.show()"
   ]
  },
  {
   "cell_type": "code",
   "execution_count": 19,
   "id": "756351c3",
   "metadata": {},
   "outputs": [
    {
     "name": "stdout",
     "output_type": "stream",
     "text": [
      "395/395 [==============================] - 6s 9ms/step\n",
      "Test Data accuracy VGG:  95.47901821060965\n"
     ]
    }
   ],
   "source": [
    "R50 = tf.keras.models.load_model('R50_model2.h5')\n",
    "pred = R50.predict(X_test)\n",
    "pred = map_pred(pred.argmax(axis=-1))\n",
    "print('Test Data accuracy R50: ',accuracy_score(test_labels, pred)*100)"
   ]
  },
  {
   "cell_type": "code",
   "execution_count": 17,
   "id": "935e4ef2",
   "metadata": {},
   "outputs": [
    {
     "data": {
      "image/png": "[encoded data removed]",
      "text/plain": [
       "<Figure size 480x480 with 1 Axes>"
      ]
     },
     "metadata": {},
     "output_type": "display_data"
    }
   ],
   "source": [
    "plt.matshow(X_test[6])\n",
    "plt.show()"
   ]
  },
  {
   "cell_type": "code",
   "execution_count": 20,
   "id": "022b8c88",
   "metadata": {},
   "outputs": [],
   "source": [
    "loss_object = tf.keras.losses.SparseCategoricalCrossentropy()\n",
    "optimizer = tf.keras.optimizers.Adam()\n",
    "classifier = TensorFlowV2Classifier(model=R50, nb_classes=43, input_shape=(32,32,3), loss_object=loss_object, \n",
    "                                    clip_values=(0, 1), channels_first=False)"
   ]
  },
  {
   "cell_type": "code",
   "execution_count": 21,
   "id": "f08aa96c",
   "metadata": {},
   "outputs": [],
   "source": [
    "attack_fgsm_r50 = fast_gradient.FastGradientMethod(estimator=classifier, eps=0.3)\n",
    "x_test_adv_r50 = attack_fgsm_r50.generate(x=X_test)"
   ]
  },
  {
   "cell_type": "code",
   "execution_count": 22,
   "id": "b9ce4a28",
   "metadata": {},
   "outputs": [
    {
     "name": "stdout",
     "output_type": "stream",
     "text": [
      "395/395 [==============================] - 3s 9ms/step\n",
      "Average perturbation: 0.23\n",
      "Test Data accuracy R50 with fgsm attack 43.25%\n"
     ]
    }
   ],
   "source": [
    "pred = R50.predict(x_test_adv_r50)\n",
    "pred = map_pred(pred.argmax(axis=-1))\n",
    "perturbation = np.mean(np.abs((x_test_adv_r50 - X_test)))\n",
    "print('Average perturbation: {:4.2f}'.format(perturbation))\n",
    "print('Test Data accuracy R50 with fgsm attack {:4.2f}%'.format(accuracy_score(test_labels, pred)*100))"
   ]
  },
  {
   "cell_type": "code",
   "execution_count": 24,
   "id": "caf84208",
   "metadata": {},
   "outputs": [
    {
     "data": {
      "image/png": "[encoded data removed]",
      "text/plain": [
       "<Figure size 480x480 with 1 Axes>"
      ]
     },
     "metadata": {},
     "output_type": "display_data"
    }
   ],
   "source": [
    "plt.matshow(x_test_adv_r50[6])\n",
    "plt.show()"
   ]
  },
  {
   "cell_type": "code",
   "execution_count": null,
   "id": "85b4fa1a",
   "metadata": {},
   "outputs": [],
   "source": []
  }
 ],
 "metadata": {
  "kernelspec": {
   "display_name": "TensorFlowGPU",
   "language": "python",
   "name": "tf_gpu"
  },
  "language_info": {
   "codemirror_mode": {
    "name": "ipython",
    "version": 3
   },
   "file_extension": ".py",
   "mimetype": "text/x-python",
   "name": "python",
   "nbconvert_exporter": "python",
   "pygments_lexer": "ipython3",
   "version": "3.10.0"
  }
 },
 "nbformat": 4,
 "nbformat_minor": 5
}
